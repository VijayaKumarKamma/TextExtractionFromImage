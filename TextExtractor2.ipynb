{
 "cells": [
  {
   "cell_type": "code",
   "execution_count": 15,
   "metadata": {},
   "outputs": [],
   "source": [
    "import cv2\n",
    "import pytesseract\n",
    "import os\n",
    "from PIL import Image\n",
    "import sys\n",
    "import numpy as np"
   ]
  },
  {
   "cell_type": "code",
   "execution_count": 21,
   "metadata": {},
   "outputs": [],
   "source": [
    "Keys = ['Name', 'name', 'Nationality', 'Address', 'Emu']\n",
    "def get_string():\n",
    "    # Read image with opencv\n",
    "    eximage = os.path.join('/home/administrator/TE/example_09.jpg')\n",
    "    img = cv2.imread(eximage)\n",
    "\n",
    "    # Convert to gray\n",
    "    img = cv2.cvtColor(img, cv2.COLOR_BGR2GRAY)\n",
    "    # Apply dilation and erosion to remove some noise\n",
    "    kernel = np.ones((1, 1), np.uint8)\n",
    "    img = cv2.dilate(img, kernel, iterations=1)\n",
    "    img = cv2.erode(img, kernel, iterations=1)\n",
    "\n",
    "    # Write the image after apply opencv to do some ...\n",
    "    cv2.imwrite(\"thres.png\", img)\n",
    "    # Recognize text with tesseract for python\n",
    "    result = pytesseract.image_to_string(Image.open(\"thres.png\"))\n",
    "    os.remove(\"thres.png\")\n",
    "    #print (result)\n",
    "    #print(type(result))\n",
    "    return result"
   ]
  },
  {
   "cell_type": "code",
   "execution_count": 28,
   "metadata": {},
   "outputs": [
    {
     "name": "stdout",
     "output_type": "stream",
     "text": [
      "Noun phrases: ['Name Vijayakumar', 'Address Banglore', 'an outstanding web-based PDF program', 'various PDF management tools', 'It', 'a built-in OCR function', 'It', 'a wide range', 'languages', 'example', 'this OCR tool', 'formats', 'JPG', 'a step', 'step guide', 'text', 'its OCR page', 'the image', 'you', 'dropping', 'Choose File', 'Choose File', 'OCR', 'email', 'you', 'one or more languages', 'your file', 'the output format', 'you', 'all the processes', '“Convert', 'conversion', 'VIP Service', 'the file', 'your local disk', 'the download button', 'Download', 'File', 'we', 'it', 'Signature Vijayakumar']\n",
      "Verbs: ['base', 'offer', 'build', 'use', 'support', 'can', 'handle', 'extract', 'open', 'upload', 'need', 'process', 'drag', 'click', 'choose', 'can', 'go', 'select', 'contain', 'select', 'want', 'finish', 'click', 'start', 'save', 'click', 'provide', 'recognize', 'recommend']\n"
     ]
    }
   ],
   "source": [
    "import spacy \n",
    "nlp = spacy.load('en_core_web_sm') \n",
    "result = get_string()\n",
    "#sentence = \"Apple is looking at buying U.K. startup for $1 billion\"\n",
    "doc = nlp(result) \n",
    "Noun = [chunk.text for chunk in doc.noun_chunks]\n",
    "Verb= [token.lemma_ for token in doc if token.pos_ == \"VERB\"]\n",
    "print(\"Noun phrases:\", Noun)\n",
    "print(\"Verbs:\", Verb)\n",
    "\n",
    "#for ent in doc.ents: \n",
    "    #print(ent.text,'-----------', ent.start_char,'---------', ent.end_char,'-----------', ent.label_) \n"
   ]
  },
  {
   "cell_type": "code",
   "execution_count": 53,
   "metadata": {},
   "outputs": [
    {
     "name": "stdout",
     "output_type": "stream",
     "text": [
      "--- Start recognize text from image ---\n",
      "------ Done -------\n",
      "Name\n",
      "Contains given substring \n",
      "NameVijayakumar\n",
      "name\n",
      "Nationality\n",
      "Address\n",
      "Contains given substring \n",
      "AddressBanglore\n",
      "Emu\n",
      "{'Name': '', 'name': '', 'Nationality': '', 'Address': '', 'Emu': ''}\n"
     ]
    }
   ],
   "source": [
    "print('--- Start recognize text from image ---')\n",
    "import re \n",
    "\"\"\"D = {\n",
    "      \"Name\": \"\",\n",
    "      \"name\": \"\",\n",
    "      \"Nationality\": \"\",\n",
    "      \"Address\": \"\",\n",
    "      \"Emu\": \"\",\n",
    "    }\"\"\"\n",
    "D = {}\n",
    "result = get_string()\n",
    "print('------ Done -------')\n",
    "for k in Keys:\n",
    "    print(k)\n",
    "    for N in Noun:\n",
    "        if (N.find(k) != -1): \n",
    "            print (\"Contains given substring \")\n",
    "            #S = N.strip()\n",
    "            #S = (re.sub(r\"\\s+\", \"\", N), sep='')\n",
    "            #print(N.replace(\" \", \"\"))\n",
    "            D[k] = N.replace(\" \", \"\")\n",
    "        else:\n",
    "            D[k] = \"\"\n",
    "            \n",
    "print(D)"
   ]
  },
  {
   "cell_type": "code",
   "execution_count": null,
   "metadata": {},
   "outputs": [],
   "source": []
  }
 ],
 "metadata": {
  "kernelspec": {
   "display_name": "Python 3",
   "language": "python",
   "name": "python3"
  },
  "language_info": {
   "codemirror_mode": {
    "name": "ipython",
    "version": 3
   },
   "file_extension": ".py",
   "mimetype": "text/x-python",
   "name": "python",
   "nbconvert_exporter": "python",
   "pygments_lexer": "ipython3",
   "version": "3.6.9"
  }
 },
 "nbformat": 4,
 "nbformat_minor": 2
}

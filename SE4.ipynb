{
 "cells": [
  {
   "cell_type": "code",
   "execution_count": 19,
   "metadata": {},
   "outputs": [],
   "source": [
    "import cv2\n",
    "import os\n",
    "from PIL import Image\n",
    "import sys\n",
    "import numpy as np\n",
    "import matplotlib.pyplot as plt\n",
    "from skimage import measure, morphology\n",
    "from skimage.color import label2rgb\n",
    "from skimage.measure import regionprops\n",
    "import re "
   ]
  },
  {
   "cell_type": "code",
   "execution_count": 20,
   "metadata": {},
   "outputs": [],
   "source": [
    "# read the input image\n",
    "imgi=os.path.join('/home/administrator/TE/in2.jpg')\n",
    "img = cv2.imread(imgi)\n",
    "img = cv2.threshold(img, 127, 255, cv2.THRESH_BINARY)[1]  # ensure binary\n",
    "\n",
    "# connected component analysis by scikit-learn framework\n",
    "blobs = img > img.mean()\n",
    "blobs_labels = measure.label(blobs, background=1)"
   ]
  },
  {
   "cell_type": "code",
   "execution_count": 21,
   "metadata": {},
   "outputs": [
    {
     "name": "stdout",
     "output_type": "stream",
     "text": [
      "the_biggest_component: 4932\n",
      "average: 101.85866666666666\n",
      "a4_constant: 403.1507936507937\n"
     ]
    },
    {
     "data": {
      "text/plain": [
       "True"
      ]
     },
     "execution_count": 21,
     "metadata": {},
     "output_type": "execute_result"
    }
   ],
   "source": [
    "#variable dicleration \n",
    "the_biggest_component = 0\n",
    "total_area = 0\n",
    "counter = 0\n",
    "average = 0.0\n",
    "for region in regionprops(blobs_labels):\n",
    "    if (region.area > 10):\n",
    "        total_area = total_area + region.area\n",
    "        counter = counter + 1\n",
    "    # print region.area # (for debugging)\n",
    "    # take regions with large enough areas\n",
    "    if (region.area >= 250):\n",
    "        if (region.area > the_biggest_component):\n",
    "            the_biggest_component = region.area\n",
    "\n",
    "average = (total_area/counter)\n",
    "print(\"the_biggest_component: \" + str(the_biggest_component))\n",
    "print(\"average: \" + str(average))\n",
    "\n",
    "# experimental-based ratio calculation\n",
    "# a4_constant is used as a threshold value to remove connected pixels\n",
    "# are smaller than a4_constant for A4 size scanned documents\n",
    "a4_constant = ((average/84.0)*250.0)+100\n",
    "print(\"a4_constant: \" + str(a4_constant))\n",
    "\n",
    "# remove the connected pixels are smaller than a4_constant\n",
    "b = morphology.remove_small_objects(blobs_labels, a4_constant)\n",
    "# save the the pre-version which is the image is labelled with colors\n",
    "# as considering connected components\n",
    "b = b.astype(np.uint8)\n",
    "plt.imsave('pre_version.png', b)\n",
    "# read the pre-version\n",
    "img = cv2.imread('pre_version.png', 0)\n",
    "# ensure binary\n",
    "img = cv2.threshold(img, 0, 255, cv2.THRESH_BINARY_INV | cv2.THRESH_OTSU)[1]\n",
    "# save the the result which is having all the signatures in the image.\n",
    "cv2.imwrite(\"output.jpg\", img)"
   ]
  },
  {
   "cell_type": "code",
   "execution_count": 22,
   "metadata": {},
   "outputs": [],
   "source": [
    "image = cv2.imread('/home/administrator/TE/output.jpg')\n",
    "#--- Image was too big hence I resized it ---\n",
    "image = cv2.resize(image, (0, 0), fx = 0.5, fy = 0.5)\n",
    "\n",
    "#--- Converting image to grayscale ---\n",
    "gray = cv2.cvtColor(image, cv2.COLOR_BGR2GRAY)\n",
    "\n",
    "#--- Performing inverted binary threshold ---\n",
    "retval, thresh_gray = cv2.threshold(gray, 0, 255, type = cv2.THRESH_BINARY_INV | cv2.THRESH_OTSU)\n",
    "#--- finding contours ---\n",
    "contours, hierarchy = cv2.findContours(thresh_gray,cv2.RETR_EXTERNAL, \\\n",
    "                                              cv2.CHAIN_APPROX_SIMPLE)\n",
    "\n",
    "for i, c in enumerate(contours):\n",
    "    if cv2.contourArea(c) > 100:\n",
    "        x, y, w, h = cv2.boundingRect(c)\n",
    "        roi = image[y  :y + h, x : x + w ]\n",
    "        cv2.imwrite('sign_{}.jpg'.format(i), roi)\n",
    "cv2.destroyAllWindows()"
   ]
  }
 ],
 "metadata": {
  "kernelspec": {
   "display_name": "Python 3",
   "language": "python",
   "name": "python3"
  },
  "language_info": {
   "codemirror_mode": {
    "name": "ipython",
    "version": 3
   },
   "file_extension": ".py",
   "mimetype": "text/x-python",
   "name": "python",
   "nbconvert_exporter": "python",
   "pygments_lexer": "ipython3",
   "version": "3.6.9"
  }
 },
 "nbformat": 4,
 "nbformat_minor": 2
}
